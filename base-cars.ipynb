{
 "cells": [
  {
   "cell_type": "code",
   "execution_count": 18,
   "metadata": {},
   "outputs": [
    {
     "name": "stdout",
     "output_type": "stream",
     "text": [
      "Overwriting cars.csv\n"
     ]
    }
   ],
   "source": [
    "%%writefile cars.csv\n",
    "id,sell_level,maintenance_level,doors,passengers,luggage_size\n",
    "1,high,low,2,2,small\n",
    "2,med,low,2,2,large\n",
    "3,high,low,2,4,small\n",
    "4,high,low,2,4,large\n",
    "5,low,low,4,2,small\n",
    "6,high,low,4,2,large\n",
    "7,high,low,4,4,small\n",
    "8,high,low,4,4,large\n",
    "9,high,med,2,2,small\n",
    "10,low,med,2,2,large\n",
    "11,high,med,2,4,small\n",
    "12,high,med,2,4,large\n",
    "13,med,med,4,2,small\n",
    "14,high,med,4,2,large\n",
    "15,high,med,4,4,small\n",
    "16,high,med,4,4,large\n",
    "17,high,high,2,2,small\n",
    "18,high,high,2,2,large\n",
    "19,high,high,2,4,small\n",
    "20,high,high,2,4,large\n"
   ]
  },
  {
   "cell_type": "code",
   "execution_count": 20,
   "metadata": {},
   "outputs": [],
   "source": [
    "# Esta função lê uma coluna especificada de um arquivo CSV e converte seus valores para o tipo de dados especificado (int ou float).\n",
    "def read_convert_column(file='./cars.csv', column_name='id', data_type='int'):\n",
    "    column_values = []\n",
    "    try:\n",
    "        with open(file, mode='r', encoding='utf-8') as read_file:\n",
    "            lines = read_file.readlines()\n",
    "            header = lines[0].strip().split(',')\n",
    "            column_index = header.index(column_name)\n",
    "            content = lines[1:]\n",
    "            for line in content:\n",
    "                values = line.strip().split(',')\n",
    "                value = values[column_index]\n",
    "                if data_type == 'int':\n",
    "                    value = int(value)\n",
    "                elif data_type == 'float':\n",
    "                    value = float(value)\n",
    "                column_values.append(value)\n",
    "    except FileNotFoundError:\n",
    "        print(f\"File not found: {file}\")\n",
    "        return []\n",
    "    except IOError as e:\n",
    "        print(f\"Error reading file: {e}\")\n",
    "        return []\n",
    "    return column_values\n",
    "    "
   ]
  },
  {
   "cell_type": "code",
   "execution_count": 21,
   "metadata": {},
   "outputs": [
    {
     "name": "stdout",
     "output_type": "stream",
     "text": [
      "['high', 'med', 'high', 'high', 'low', 'high', 'high', 'high', 'high', 'low', 'high', 'high', 'med', 'high', 'high', 'high', 'high', 'high', 'high', 'high']\n"
     ]
    }
   ],
   "source": [
    "# extrair coluna sell_level\n",
    "sell_level = read_convert_column(file='./cars.csv', column_name='sell_level', data_type='str')\n",
    "print(sell_level)"
   ]
  },
  {
   "cell_type": "code",
   "execution_count": 22,
   "metadata": {},
   "outputs": [
    {
     "name": "stdout",
     "output_type": "stream",
     "text": [
      "[2, 2, 4, 4, 2, 2, 4, 4, 2, 2, 4, 4, 2, 2, 4, 4, 2, 2, 4, 4]\n"
     ]
    }
   ],
   "source": [
    "# extrair coluna de passageiros\n",
    "passengers = read_convert_column(file='./cars.csv', column_name='passengers', data_type='int')\n",
    "print(passengers)"
   ]
  }
 ],
 "metadata": {
  "kernelspec": {
   "display_name": "Python 3",
   "language": "python",
   "name": "python3"
  },
  "language_info": {
   "codemirror_mode": {
    "name": "ipython",
    "version": 3
   },
   "file_extension": ".py",
   "mimetype": "text/x-python",
   "name": "python",
   "nbconvert_exporter": "python",
   "pygments_lexer": "ipython3",
   "version": "3.11.9"
  }
 },
 "nbformat": 4,
 "nbformat_minor": 2
}
