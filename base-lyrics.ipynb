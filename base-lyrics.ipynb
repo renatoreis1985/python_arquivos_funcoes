{
 "cells": [
  {
   "cell_type": "code",
   "execution_count": 5,
   "metadata": {},
   "outputs": [
    {
     "name": "stdout",
     "output_type": "stream",
     "text": [
      "Overwriting music.txt\n"
     ]
    }
   ],
   "source": [
    "%%writefile music.txt\n",
    "Roda Viva\n",
    "Chico Buarque\n",
    "\n",
    "Tem dias que a gente se sente\n",
    "Como quem partiu ou morreu\n",
    "A gente estancou de repente\n",
    "Ou foi o mundo então que cresceu\n",
    "A gente quer ter voz ativa\n",
    "No nosso destino mandar\n",
    "Mas eis que chega a roda viva\n",
    "E carrega o destino pra lá\n",
    "Roda mundo, roda-gigante\n",
    "Roda moinho, roda pião\n",
    "O tempo rodou num instante\n",
    "Nas voltas do meu coração\n",
    "A gente vai contra a corrente\n",
    "Até não poder resistir\n",
    "Na volta do barco é que sente\n",
    "O quanto deixou de cumprir\n",
    "Faz tempo que a gente cultiva\n",
    "A mais linda roseira que há\n",
    "Mas eis que chega a roda viva\n",
    "E carrega a roseira pra lá\n",
    "Roda mundo, roda-gigante\n",
    "Roda moinho, roda pião\n"
   ]
  },
  {
   "cell_type": "code",
   "execution_count": 6,
   "metadata": {},
   "outputs": [],
   "source": [
    "# Esta função deve retornar uma lista de palavras do line_number do arquivo.\n",
    "def extract_words_from_line(line_number: int, file='./music.txt') -> list[str]:\n",
    "    try:\n",
    "        with open(file, mode='r', encoding='utf-8') as read_file:\n",
    "            for current_line_number, line in enumerate(read_file, start=1):\n",
    "                if current_line_number == line_number:\n",
    "                    words = line.strip().split(' ')\n",
    "                    return words\n",
    "        return []\n",
    "    except FileNotFoundError:\n",
    "        print(f\"File not found: {file}\")\n",
    "        return []\n",
    "    except Exception as e:\n",
    "        print(f\"Error to read file: {e}\")\n",
    "        return [] "
   ]
  },
  {
   "cell_type": "code",
   "execution_count": 7,
   "metadata": {},
   "outputs": [
    {
     "name": "stdout",
     "output_type": "stream",
     "text": [
      "['Mas', 'eis', 'que', 'chega', 'a', 'roda', 'viva']\n"
     ]
    }
   ],
   "source": [
    "# exemplo de uso\n",
    "line10 = extract_words_from_line(10,'./music.txt')\n",
    "print(line10)     "
   ]
  }
 ],
 "metadata": {
  "kernelspec": {
   "display_name": "Python 3",
   "language": "python",
   "name": "python3"
  },
  "language_info": {
   "codemirror_mode": {
    "name": "ipython",
    "version": 3
   },
   "file_extension": ".py",
   "mimetype": "text/x-python",
   "name": "python",
   "nbconvert_exporter": "python",
   "pygments_lexer": "ipython3",
   "version": "3.11.9"
  }
 },
 "nbformat": 4,
 "nbformat_minor": 2
}
